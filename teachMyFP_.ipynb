{
  "nbformat": 4,
  "nbformat_minor": 0,
  "metadata": {
    "colab": {
      "provenance": []
    },
    "kernelspec": {
      "name": "python3",
      "display_name": "Python 3"
    },
    "language_info": {
      "name": "python"
    }
  },
  "cells": [
    {
      "cell_type": "code",
      "source": [
        "# Installing PyPDF2\n",
        "\n",
        "!pip install PyPDF2"
      ],
      "metadata": {
        "colab": {
          "base_uri": "https://localhost:8080/"
        },
        "id": "uz9WmM_NsK0T",
        "outputId": "07a04f83-fc46-4415-a185-cd6bec2fbc9a"
      },
      "execution_count": null,
      "outputs": [
        {
          "output_type": "stream",
          "name": "stdout",
          "text": [
            "Collecting PyPDF2\n",
            "  Downloading pypdf2-3.0.1-py3-none-any.whl (232 kB)\n",
            "\u001b[?25l     \u001b[90m━━━━━━━━━━━━━━━━━━━━━━━━━━━━━━━━━━━━━━━━\u001b[0m \u001b[32m0.0/232.6 kB\u001b[0m \u001b[31m?\u001b[0m eta \u001b[36m-:--:--\u001b[0m\r\u001b[2K     \u001b[91m━━━━━━━━━━━━━━━━━━━━━━━━━━━━━━━━━━━━━━\u001b[0m\u001b[91m╸\u001b[0m\u001b[90m━\u001b[0m \u001b[32m225.3/232.6 kB\u001b[0m \u001b[31m7.1 MB/s\u001b[0m eta \u001b[36m0:00:01\u001b[0m\r\u001b[2K     \u001b[90m━━━━━━━━━━━━━━━━━━━━━━━━━━━━━━━━━━━━━━━━\u001b[0m \u001b[32m232.6/232.6 kB\u001b[0m \u001b[31m5.4 MB/s\u001b[0m eta \u001b[36m0:00:00\u001b[0m\n",
            "\u001b[?25hInstalling collected packages: PyPDF2\n",
            "Successfully installed PyPDF2-3.0.1\n"
          ]
        }
      ]
    },
    {
      "cell_type": "code",
      "source": [
        "# Installing NLTK\n",
        "\n",
        "!pip install nltk"
      ],
      "metadata": {
        "colab": {
          "base_uri": "https://localhost:8080/"
        },
        "id": "-240Wbzlssoj",
        "outputId": "c34edf58-613d-4b61-e578-758f61858b8c"
      },
      "execution_count": null,
      "outputs": [
        {
          "output_type": "stream",
          "name": "stdout",
          "text": [
            "Requirement already satisfied: nltk in /usr/local/lib/python3.10/dist-packages (3.8.1)\n",
            "Requirement already satisfied: click in /usr/local/lib/python3.10/dist-packages (from nltk) (8.1.7)\n",
            "Requirement already satisfied: joblib in /usr/local/lib/python3.10/dist-packages (from nltk) (1.3.2)\n",
            "Requirement already satisfied: regex>=2021.8.3 in /usr/local/lib/python3.10/dist-packages (from nltk) (2023.12.25)\n",
            "Requirement already satisfied: tqdm in /usr/local/lib/python3.10/dist-packages (from nltk) (4.66.2)\n"
          ]
        }
      ]
    },
    {
      "cell_type": "markdown",
      "source": [
        "So far, things to implement:\n",
        "1) How to grab an expression when two words appear on the keyword list. Example \"Big Bang\".\n",
        "2) Create a rule to exclude \"'s\" from keyword list. For example: hubble and hubble's are in the same list."
      ],
      "metadata": {
        "id": "LwAel4vEqpFc"
      }
    },
    {
      "cell_type": "code",
      "source": [
        "# Installing PyMuPDF (fitz)\n",
        "\n",
        "!pip install PyMuPDF"
      ],
      "metadata": {
        "colab": {
          "base_uri": "https://localhost:8080/"
        },
        "id": "wKeizzjHsfXO",
        "outputId": "c1b76683-e4d0-45b9-d215-dbc1228fdaf4"
      },
      "execution_count": null,
      "outputs": [
        {
          "output_type": "stream",
          "name": "stdout",
          "text": [
            "Collecting PyMuPDF\n",
            "  Downloading PyMuPDF-1.23.26-cp310-none-manylinux2014_x86_64.whl (4.4 MB)\n",
            "\u001b[2K     \u001b[90m━━━━━━━━━━━━━━━━━━━━━━━━━━━━━━━━━━━━━━━━\u001b[0m \u001b[32m4.4/4.4 MB\u001b[0m \u001b[31m19.8 MB/s\u001b[0m eta \u001b[36m0:00:00\u001b[0m\n",
            "\u001b[?25hCollecting PyMuPDFb==1.23.22 (from PyMuPDF)\n",
            "  Downloading PyMuPDFb-1.23.22-py3-none-manylinux2014_x86_64.manylinux_2_17_x86_64.whl (30.6 MB)\n",
            "\u001b[2K     \u001b[90m━━━━━━━━━━━━━━━━━━━━━━━━━━━━━━━━━━━━━━━━\u001b[0m \u001b[32m30.6/30.6 MB\u001b[0m \u001b[31m25.9 MB/s\u001b[0m eta \u001b[36m0:00:00\u001b[0m\n",
            "\u001b[?25hInstalling collected packages: PyMuPDFb, PyMuPDF\n",
            "Successfully installed PyMuPDF-1.23.26 PyMuPDFb-1.23.22\n"
          ]
        }
      ]
    },
    {
      "cell_type": "markdown",
      "source": [
        "**Test 1: Big Bang**"
      ],
      "metadata": {
        "id": "S3VgrKjGsyfr"
      }
    },
    {
      "cell_type": "code",
      "source": [
        "import PyPDF2\n",
        "import fitz\n",
        "import nltk\n",
        "from collections import Counter\n",
        "from nltk.corpus import stopwords\n",
        "import string\n",
        "\n",
        "nltk.download('stopwords')\n",
        "\n",
        "from google.colab import files\n",
        "uploaded = files.upload()\n",
        "\n",
        "def extract_text(file_path):\n",
        "    # Using PyMuPDF to extract text\n",
        "    text = \"\"\n",
        "    with fitz.open(file_path) as pdf_file:\n",
        "        for page_num in range(len(pdf_file)):\n",
        "            page = pdf_file.load_page(page_num)\n",
        "            text += page.get_text()\n",
        "    return text\n",
        "\n",
        "def extract_metadata(file_path):\n",
        "    # Using PyMuPDF for extracting metadata\n",
        "    with fitz.open(file_path) as pdf_file:\n",
        "        metadata = pdf_file.metadata\n",
        "        number_of_pages = len(pdf_file)\n",
        "        return metadata, number_of_pages\n",
        "\n",
        "def preprocess_text(text):\n",
        "    # Lowercase\n",
        "    text = text.lower()\n",
        "    # Punctuation\n",
        "    text = ''.join([char for char in text if char not in string.punctuation])\n",
        "    # Remove common words\n",
        "    stop_words = set(stopwords.words('english'))\n",
        "    text = ' '.join([word for word in text.split() if word not in stop_words])\n",
        "    return text\n",
        "\n",
        "def identify_keywords_and_expressions(text):\n",
        "    words = text.split()\n",
        "    # Identify frequent words. Here, we can adjust the number as we see fit.\n",
        "    frequent_words = Counter(words).most_common(20)\n",
        "\n",
        "    # In theory, the use of \"stopwords\" already serve this purpose. But just in case we want to add other words.\n",
        "    excluded_words = {\"was\", \"will\", \"they\", \"are\"}\n",
        "\n",
        "    keywords = [word for word, count in frequent_words if word not in excluded_words and len(word) > 2 and len(word) < 15]\n",
        "\n",
        "    # I wasn't able to write a correct expression, but I believe we need to develope one (Ex: \"Big Bang\").\n",
        "    expressions = []\n",
        "\n",
        "    # List of the keywords and expressions\n",
        "    print(\"List of keywords:\", keywords)\n",
        "    print(\"List of expressions:\", expressions)\n",
        "    return keywords, expressions\n",
        "\n",
        "file_path = \"test1.pdf\"\n",
        "\n",
        "text = extract_text(file_path)\n",
        "metadata, number_of_pages = extract_metadata(file_path)\n",
        "\n",
        "text = preprocess_text(text)\n",
        "\n",
        "keywords, expressions = identify_keywords_and_expressions(text)\n",
        "\n",
        "# Print metadata\n",
        "print(\"Number of Pages:\", number_of_pages)\n",
        "print(\"Length of Text:\", len(text))\n",
        "print(\"Title:\", metadata.get(\"title\", \"Not available\"))\n",
        "print(\"Author:\", metadata.get(\"author\", \"Not available\"))\n",
        "print(\"Summary:\", metadata.get(\"subject\", \"Not available\"))"
      ],
      "metadata": {
        "colab": {
          "base_uri": "https://localhost:8080/",
          "height": 249
        },
        "id": "wvTCU_9OsGaP",
        "outputId": "3fb93f8c-fcb4-4978-eedb-8dc0eadd4e21"
      },
      "execution_count": null,
      "outputs": [
        {
          "output_type": "stream",
          "name": "stderr",
          "text": [
            "[nltk_data] Downloading package stopwords to /root/nltk_data...\n",
            "[nltk_data]   Package stopwords is already up-to-date!\n"
          ]
        },
        {
          "output_type": "display_data",
          "data": {
            "text/plain": [
              "<IPython.core.display.HTML object>"
            ],
            "text/html": [
              "\n",
              "     <input type=\"file\" id=\"files-19b94fce-4deb-4a05-9465-5d8961ee5848\" name=\"files[]\" multiple disabled\n",
              "        style=\"border:none\" />\n",
              "     <output id=\"result-19b94fce-4deb-4a05-9465-5d8961ee5848\">\n",
              "      Upload widget is only available when the cell has been executed in the\n",
              "      current browser session. Please rerun this cell to enable.\n",
              "      </output>\n",
              "      <script>// Copyright 2017 Google LLC\n",
              "//\n",
              "// Licensed under the Apache License, Version 2.0 (the \"License\");\n",
              "// you may not use this file except in compliance with the License.\n",
              "// You may obtain a copy of the License at\n",
              "//\n",
              "//      http://www.apache.org/licenses/LICENSE-2.0\n",
              "//\n",
              "// Unless required by applicable law or agreed to in writing, software\n",
              "// distributed under the License is distributed on an \"AS IS\" BASIS,\n",
              "// WITHOUT WARRANTIES OR CONDITIONS OF ANY KIND, either express or implied.\n",
              "// See the License for the specific language governing permissions and\n",
              "// limitations under the License.\n",
              "\n",
              "/**\n",
              " * @fileoverview Helpers for google.colab Python module.\n",
              " */\n",
              "(function(scope) {\n",
              "function span(text, styleAttributes = {}) {\n",
              "  const element = document.createElement('span');\n",
              "  element.textContent = text;\n",
              "  for (const key of Object.keys(styleAttributes)) {\n",
              "    element.style[key] = styleAttributes[key];\n",
              "  }\n",
              "  return element;\n",
              "}\n",
              "\n",
              "// Max number of bytes which will be uploaded at a time.\n",
              "const MAX_PAYLOAD_SIZE = 100 * 1024;\n",
              "\n",
              "function _uploadFiles(inputId, outputId) {\n",
              "  const steps = uploadFilesStep(inputId, outputId);\n",
              "  const outputElement = document.getElementById(outputId);\n",
              "  // Cache steps on the outputElement to make it available for the next call\n",
              "  // to uploadFilesContinue from Python.\n",
              "  outputElement.steps = steps;\n",
              "\n",
              "  return _uploadFilesContinue(outputId);\n",
              "}\n",
              "\n",
              "// This is roughly an async generator (not supported in the browser yet),\n",
              "// where there are multiple asynchronous steps and the Python side is going\n",
              "// to poll for completion of each step.\n",
              "// This uses a Promise to block the python side on completion of each step,\n",
              "// then passes the result of the previous step as the input to the next step.\n",
              "function _uploadFilesContinue(outputId) {\n",
              "  const outputElement = document.getElementById(outputId);\n",
              "  const steps = outputElement.steps;\n",
              "\n",
              "  const next = steps.next(outputElement.lastPromiseValue);\n",
              "  return Promise.resolve(next.value.promise).then((value) => {\n",
              "    // Cache the last promise value to make it available to the next\n",
              "    // step of the generator.\n",
              "    outputElement.lastPromiseValue = value;\n",
              "    return next.value.response;\n",
              "  });\n",
              "}\n",
              "\n",
              "/**\n",
              " * Generator function which is called between each async step of the upload\n",
              " * process.\n",
              " * @param {string} inputId Element ID of the input file picker element.\n",
              " * @param {string} outputId Element ID of the output display.\n",
              " * @return {!Iterable<!Object>} Iterable of next steps.\n",
              " */\n",
              "function* uploadFilesStep(inputId, outputId) {\n",
              "  const inputElement = document.getElementById(inputId);\n",
              "  inputElement.disabled = false;\n",
              "\n",
              "  const outputElement = document.getElementById(outputId);\n",
              "  outputElement.innerHTML = '';\n",
              "\n",
              "  const pickedPromise = new Promise((resolve) => {\n",
              "    inputElement.addEventListener('change', (e) => {\n",
              "      resolve(e.target.files);\n",
              "    });\n",
              "  });\n",
              "\n",
              "  const cancel = document.createElement('button');\n",
              "  inputElement.parentElement.appendChild(cancel);\n",
              "  cancel.textContent = 'Cancel upload';\n",
              "  const cancelPromise = new Promise((resolve) => {\n",
              "    cancel.onclick = () => {\n",
              "      resolve(null);\n",
              "    };\n",
              "  });\n",
              "\n",
              "  // Wait for the user to pick the files.\n",
              "  const files = yield {\n",
              "    promise: Promise.race([pickedPromise, cancelPromise]),\n",
              "    response: {\n",
              "      action: 'starting',\n",
              "    }\n",
              "  };\n",
              "\n",
              "  cancel.remove();\n",
              "\n",
              "  // Disable the input element since further picks are not allowed.\n",
              "  inputElement.disabled = true;\n",
              "\n",
              "  if (!files) {\n",
              "    return {\n",
              "      response: {\n",
              "        action: 'complete',\n",
              "      }\n",
              "    };\n",
              "  }\n",
              "\n",
              "  for (const file of files) {\n",
              "    const li = document.createElement('li');\n",
              "    li.append(span(file.name, {fontWeight: 'bold'}));\n",
              "    li.append(span(\n",
              "        `(${file.type || 'n/a'}) - ${file.size} bytes, ` +\n",
              "        `last modified: ${\n",
              "            file.lastModifiedDate ? file.lastModifiedDate.toLocaleDateString() :\n",
              "                                    'n/a'} - `));\n",
              "    const percent = span('0% done');\n",
              "    li.appendChild(percent);\n",
              "\n",
              "    outputElement.appendChild(li);\n",
              "\n",
              "    const fileDataPromise = new Promise((resolve) => {\n",
              "      const reader = new FileReader();\n",
              "      reader.onload = (e) => {\n",
              "        resolve(e.target.result);\n",
              "      };\n",
              "      reader.readAsArrayBuffer(file);\n",
              "    });\n",
              "    // Wait for the data to be ready.\n",
              "    let fileData = yield {\n",
              "      promise: fileDataPromise,\n",
              "      response: {\n",
              "        action: 'continue',\n",
              "      }\n",
              "    };\n",
              "\n",
              "    // Use a chunked sending to avoid message size limits. See b/62115660.\n",
              "    let position = 0;\n",
              "    do {\n",
              "      const length = Math.min(fileData.byteLength - position, MAX_PAYLOAD_SIZE);\n",
              "      const chunk = new Uint8Array(fileData, position, length);\n",
              "      position += length;\n",
              "\n",
              "      const base64 = btoa(String.fromCharCode.apply(null, chunk));\n",
              "      yield {\n",
              "        response: {\n",
              "          action: 'append',\n",
              "          file: file.name,\n",
              "          data: base64,\n",
              "        },\n",
              "      };\n",
              "\n",
              "      let percentDone = fileData.byteLength === 0 ?\n",
              "          100 :\n",
              "          Math.round((position / fileData.byteLength) * 100);\n",
              "      percent.textContent = `${percentDone}% done`;\n",
              "\n",
              "    } while (position < fileData.byteLength);\n",
              "  }\n",
              "\n",
              "  // All done.\n",
              "  yield {\n",
              "    response: {\n",
              "      action: 'complete',\n",
              "    }\n",
              "  };\n",
              "}\n",
              "\n",
              "scope.google = scope.google || {};\n",
              "scope.google.colab = scope.google.colab || {};\n",
              "scope.google.colab._files = {\n",
              "  _uploadFiles,\n",
              "  _uploadFilesContinue,\n",
              "};\n",
              "})(self);\n",
              "</script> "
            ]
          },
          "metadata": {}
        },
        {
          "output_type": "stream",
          "name": "stdout",
          "text": [
            "Saving test1.pdf to test1 (1).pdf\n",
            "List of keywords: ['universe', 'big', 'bang', 'years', 'evidence', 'earth', 'radiation', 'expanding', 'theory', 'microwave', 'hubble', 'objects', 'away', 'billion', 'hubble’s', 'background', 'galaxies', 'image', 'cosmic', 'moving']\n",
            "List of expressions: []\n",
            "Number of Pages: 4\n",
            "Length of Text: 7368\n",
            "Title: \n",
            "Author: \n",
            "Summary: \n"
          ]
        }
      ]
    },
    {
      "cell_type": "markdown",
      "source": [
        "**Test 2: Finance**"
      ],
      "metadata": {
        "id": "aEswCBwApMRD"
      }
    },
    {
      "cell_type": "code",
      "source": [
        "import PyPDF2\n",
        "import fitz\n",
        "import nltk\n",
        "from collections import Counter\n",
        "from nltk.corpus import stopwords\n",
        "import string\n",
        "\n",
        "nltk.download('stopwords')\n",
        "\n",
        "from google.colab import files\n",
        "uploaded = files.upload()\n",
        "\n",
        "def extract_text(file_path):\n",
        "    # Using PyMuPDF to extract text\n",
        "    text = \"\"\n",
        "    with fitz.open(file_path) as pdf_file:\n",
        "        for page_num in range(len(pdf_file)):\n",
        "            page = pdf_file.load_page(page_num)\n",
        "            text += page.get_text()\n",
        "    return text\n",
        "\n",
        "def extract_metadata(file_path):\n",
        "    # Using PyMuPDF for extracting metadata\n",
        "    with fitz.open(file_path) as pdf_file:\n",
        "        metadata = pdf_file.metadata\n",
        "        number_of_pages = len(pdf_file)\n",
        "        return metadata, number_of_pages\n",
        "\n",
        "def preprocess_text(text):\n",
        "    # Lowercase\n",
        "    text = text.lower()\n",
        "    # Punctuation\n",
        "    text = ''.join([char for char in text if char not in string.punctuation])\n",
        "    # Remove common words\n",
        "    stop_words = set(stopwords.words('english'))\n",
        "    text = ' '.join([word for word in text.split() if word not in stop_words])\n",
        "    return text\n",
        "\n",
        "def identify_keywords_and_expressions(text):\n",
        "    words = text.split()\n",
        "    # Identify frequent words. Here, we can adjust the number as we see fit.\n",
        "    frequent_words = Counter(words).most_common(20)\n",
        "\n",
        "    # In theory, the use of \"stopwords\" already serve this purpose. But just in case we want to add other words.\n",
        "    excluded_words = {\"was\", \"will\", \"they\", \"are\"}\n",
        "\n",
        "    keywords = [word for word, count in frequent_words if word not in excluded_words and len(word) > 2 and len(word) < 15]\n",
        "\n",
        "    # I wasn't able to write a correct expression, but I believe we need to develope one (Ex: \"Big Bang\").\n",
        "    expressions = []\n",
        "\n",
        "    # List of the keywords and expressions\n",
        "    print(\"List of keywords:\", keywords)\n",
        "    print(\"List of expressions:\", expressions)\n",
        "    return keywords, expressions\n",
        "\n",
        "file_path = \"test2.pdf\"\n",
        "\n",
        "text = extract_text(file_path)\n",
        "metadata, number_of_pages = extract_metadata(file_path)\n",
        "\n",
        "text = preprocess_text(text)\n",
        "\n",
        "keywords, expressions = identify_keywords_and_expressions(text)\n",
        "\n",
        "# Print metadata\n",
        "print(\"Number of Pages:\", number_of_pages)\n",
        "print(\"Length of Text:\", len(text))\n",
        "print(\"Title:\", metadata.get(\"title\", \"Not available\"))\n",
        "print(\"Author:\", metadata.get(\"author\", \"Not available\"))\n",
        "print(\"Summary:\", metadata.get(\"subject\", \"Not available\"))"
      ],
      "metadata": {
        "colab": {
          "base_uri": "https://localhost:8080/",
          "height": 249
        },
        "id": "W2-izn5c0dky",
        "outputId": "588a9497-6199-4e7d-f8e8-3aec8295772c"
      },
      "execution_count": null,
      "outputs": [
        {
          "output_type": "stream",
          "name": "stderr",
          "text": [
            "[nltk_data] Downloading package stopwords to /root/nltk_data...\n",
            "[nltk_data]   Package stopwords is already up-to-date!\n"
          ]
        },
        {
          "output_type": "display_data",
          "data": {
            "text/plain": [
              "<IPython.core.display.HTML object>"
            ],
            "text/html": [
              "\n",
              "     <input type=\"file\" id=\"files-f73b5280-50de-4f46-87f9-b778a2c2bc2e\" name=\"files[]\" multiple disabled\n",
              "        style=\"border:none\" />\n",
              "     <output id=\"result-f73b5280-50de-4f46-87f9-b778a2c2bc2e\">\n",
              "      Upload widget is only available when the cell has been executed in the\n",
              "      current browser session. Please rerun this cell to enable.\n",
              "      </output>\n",
              "      <script>// Copyright 2017 Google LLC\n",
              "//\n",
              "// Licensed under the Apache License, Version 2.0 (the \"License\");\n",
              "// you may not use this file except in compliance with the License.\n",
              "// You may obtain a copy of the License at\n",
              "//\n",
              "//      http://www.apache.org/licenses/LICENSE-2.0\n",
              "//\n",
              "// Unless required by applicable law or agreed to in writing, software\n",
              "// distributed under the License is distributed on an \"AS IS\" BASIS,\n",
              "// WITHOUT WARRANTIES OR CONDITIONS OF ANY KIND, either express or implied.\n",
              "// See the License for the specific language governing permissions and\n",
              "// limitations under the License.\n",
              "\n",
              "/**\n",
              " * @fileoverview Helpers for google.colab Python module.\n",
              " */\n",
              "(function(scope) {\n",
              "function span(text, styleAttributes = {}) {\n",
              "  const element = document.createElement('span');\n",
              "  element.textContent = text;\n",
              "  for (const key of Object.keys(styleAttributes)) {\n",
              "    element.style[key] = styleAttributes[key];\n",
              "  }\n",
              "  return element;\n",
              "}\n",
              "\n",
              "// Max number of bytes which will be uploaded at a time.\n",
              "const MAX_PAYLOAD_SIZE = 100 * 1024;\n",
              "\n",
              "function _uploadFiles(inputId, outputId) {\n",
              "  const steps = uploadFilesStep(inputId, outputId);\n",
              "  const outputElement = document.getElementById(outputId);\n",
              "  // Cache steps on the outputElement to make it available for the next call\n",
              "  // to uploadFilesContinue from Python.\n",
              "  outputElement.steps = steps;\n",
              "\n",
              "  return _uploadFilesContinue(outputId);\n",
              "}\n",
              "\n",
              "// This is roughly an async generator (not supported in the browser yet),\n",
              "// where there are multiple asynchronous steps and the Python side is going\n",
              "// to poll for completion of each step.\n",
              "// This uses a Promise to block the python side on completion of each step,\n",
              "// then passes the result of the previous step as the input to the next step.\n",
              "function _uploadFilesContinue(outputId) {\n",
              "  const outputElement = document.getElementById(outputId);\n",
              "  const steps = outputElement.steps;\n",
              "\n",
              "  const next = steps.next(outputElement.lastPromiseValue);\n",
              "  return Promise.resolve(next.value.promise).then((value) => {\n",
              "    // Cache the last promise value to make it available to the next\n",
              "    // step of the generator.\n",
              "    outputElement.lastPromiseValue = value;\n",
              "    return next.value.response;\n",
              "  });\n",
              "}\n",
              "\n",
              "/**\n",
              " * Generator function which is called between each async step of the upload\n",
              " * process.\n",
              " * @param {string} inputId Element ID of the input file picker element.\n",
              " * @param {string} outputId Element ID of the output display.\n",
              " * @return {!Iterable<!Object>} Iterable of next steps.\n",
              " */\n",
              "function* uploadFilesStep(inputId, outputId) {\n",
              "  const inputElement = document.getElementById(inputId);\n",
              "  inputElement.disabled = false;\n",
              "\n",
              "  const outputElement = document.getElementById(outputId);\n",
              "  outputElement.innerHTML = '';\n",
              "\n",
              "  const pickedPromise = new Promise((resolve) => {\n",
              "    inputElement.addEventListener('change', (e) => {\n",
              "      resolve(e.target.files);\n",
              "    });\n",
              "  });\n",
              "\n",
              "  const cancel = document.createElement('button');\n",
              "  inputElement.parentElement.appendChild(cancel);\n",
              "  cancel.textContent = 'Cancel upload';\n",
              "  const cancelPromise = new Promise((resolve) => {\n",
              "    cancel.onclick = () => {\n",
              "      resolve(null);\n",
              "    };\n",
              "  });\n",
              "\n",
              "  // Wait for the user to pick the files.\n",
              "  const files = yield {\n",
              "    promise: Promise.race([pickedPromise, cancelPromise]),\n",
              "    response: {\n",
              "      action: 'starting',\n",
              "    }\n",
              "  };\n",
              "\n",
              "  cancel.remove();\n",
              "\n",
              "  // Disable the input element since further picks are not allowed.\n",
              "  inputElement.disabled = true;\n",
              "\n",
              "  if (!files) {\n",
              "    return {\n",
              "      response: {\n",
              "        action: 'complete',\n",
              "      }\n",
              "    };\n",
              "  }\n",
              "\n",
              "  for (const file of files) {\n",
              "    const li = document.createElement('li');\n",
              "    li.append(span(file.name, {fontWeight: 'bold'}));\n",
              "    li.append(span(\n",
              "        `(${file.type || 'n/a'}) - ${file.size} bytes, ` +\n",
              "        `last modified: ${\n",
              "            file.lastModifiedDate ? file.lastModifiedDate.toLocaleDateString() :\n",
              "                                    'n/a'} - `));\n",
              "    const percent = span('0% done');\n",
              "    li.appendChild(percent);\n",
              "\n",
              "    outputElement.appendChild(li);\n",
              "\n",
              "    const fileDataPromise = new Promise((resolve) => {\n",
              "      const reader = new FileReader();\n",
              "      reader.onload = (e) => {\n",
              "        resolve(e.target.result);\n",
              "      };\n",
              "      reader.readAsArrayBuffer(file);\n",
              "    });\n",
              "    // Wait for the data to be ready.\n",
              "    let fileData = yield {\n",
              "      promise: fileDataPromise,\n",
              "      response: {\n",
              "        action: 'continue',\n",
              "      }\n",
              "    };\n",
              "\n",
              "    // Use a chunked sending to avoid message size limits. See b/62115660.\n",
              "    let position = 0;\n",
              "    do {\n",
              "      const length = Math.min(fileData.byteLength - position, MAX_PAYLOAD_SIZE);\n",
              "      const chunk = new Uint8Array(fileData, position, length);\n",
              "      position += length;\n",
              "\n",
              "      const base64 = btoa(String.fromCharCode.apply(null, chunk));\n",
              "      yield {\n",
              "        response: {\n",
              "          action: 'append',\n",
              "          file: file.name,\n",
              "          data: base64,\n",
              "        },\n",
              "      };\n",
              "\n",
              "      let percentDone = fileData.byteLength === 0 ?\n",
              "          100 :\n",
              "          Math.round((position / fileData.byteLength) * 100);\n",
              "      percent.textContent = `${percentDone}% done`;\n",
              "\n",
              "    } while (position < fileData.byteLength);\n",
              "  }\n",
              "\n",
              "  // All done.\n",
              "  yield {\n",
              "    response: {\n",
              "      action: 'complete',\n",
              "    }\n",
              "  };\n",
              "}\n",
              "\n",
              "scope.google = scope.google || {};\n",
              "scope.google.colab = scope.google.colab || {};\n",
              "scope.google.colab._files = {\n",
              "  _uploadFiles,\n",
              "  _uploadFilesContinue,\n",
              "};\n",
              "})(self);\n",
              "</script> "
            ]
          },
          "metadata": {}
        },
        {
          "output_type": "stream",
          "name": "stdout",
          "text": [
            "Saving test2.pdf to test2.pdf\n",
            "List of keywords: ['investment', 'financial', 'firms', 'mpk', 'model', 'capital', 'cash', 'flow', 'using', 'variables', 'response', 'data', 'marginal', 'firm', 'results', 'factors', 'empirical']\n",
            "List of expressions: []\n",
            "Number of Pages: 40\n",
            "Length of Text: 72541\n",
            "Title: Investment: Fundamentals and Finance\n",
            "Author: Simon Gilchrist and Charles Himmelberg\n",
            "Summary: NBER Macroeconomics Annual 1998.13:223-262\n"
          ]
        }
      ]
    },
    {
      "cell_type": "markdown",
      "source": [
        "**Coursera - manually input**\n",
        "\n",
        "Topic: Big Bang\n",
        "\n",
        "1) https://www.coursera.org/learn/big-bang\n",
        "2) https://www.coursera.org/learn/origins-universe-solarsystem\n",
        "\n",
        "Topic: Finance\n",
        "1) https://www.coursera.org/learn/financial-markets-global\n",
        "2) https://www.coursera.org/learn/wharton-finance\n",
        "\n",
        "Topic: Random\n",
        "1) https://www.coursera.org/learn/mythology"
      ],
      "metadata": {
        "id": "XWDl6WejrZlz"
      }
    },
    {
      "cell_type": "markdown",
      "source": [
        "- The result below refers to Test2 (pdf about Finance)"
      ],
      "metadata": {
        "id": "wNgO0DwE2svp"
      }
    },
    {
      "cell_type": "code",
      "source": [
        "# List of courses\n",
        "courses = [\n",
        "    {\"course\": \"From the Big Bang to Dark Energy\", \"keywords\": [\"big\", \"bang\", \"higgs\", \"bosson\", \"universe\", \"dark\", \"matter\", \"energy\"]},\n",
        "    {\"course\": \"Origins - Formation of the Universe, Solar System, Earth and Life\", \"keywords\": [\"big\", \"bang\", \"origins\", \"solar\", \"system\", \"earth\", \"explosion\"]},\n",
        "    {\"course\": \"Financial Markets\", \"keywords\": [\"finance\", \"financial\", \"capital\", \"markets\", \"value\", \"investment\"]},\n",
        "    {\"course\": \"Introduction to Corporate Finance\", \"keywords\": [\"decision\", \"cash\", \"flow\", \"financial\"]},\n",
        "    {\"course\": \"Greek and Roman Mythology\", \"keywords\": [\"art\", \"history\", \"mythology\", \"greece\", \"heroes\"]},\n",
        "]\n",
        "\n",
        "def match_courses(keywords, courses):\n",
        "    course_scores = []\n",
        "    for course in courses:\n",
        "        # How many keywords match the course's keywords\n",
        "        match_count = sum(keyword in course[\"keywords\"] for keyword in keywords)\n",
        "        course_scores.append((course[\"course\"], match_count))  # Corrected key here\n",
        "\n",
        "    # Sort courses based on the match count\n",
        "    recommended_courses = sorted(course_scores, key=lambda x: x[1], reverse=True)\n",
        "\n",
        "    return recommended_courses\n",
        "\n",
        "# Use the extracted keywords to match courses\n",
        "recommended_courses = match_courses(keywords, courses)\n",
        "\n",
        "# Recommended courses\n",
        "print(\"The recommended courses based on your PDF are:\")\n",
        "for course, score in recommended_courses:\n",
        "    print(f\"{course} (score: {score})\")\n"
      ],
      "metadata": {
        "colab": {
          "base_uri": "https://localhost:8080/"
        },
        "id": "kAVqjopF2KBw",
        "outputId": "13610f64-68ea-413f-8273-69c82d31448c"
      },
      "execution_count": null,
      "outputs": [
        {
          "output_type": "stream",
          "name": "stdout",
          "text": [
            "The recommended courses based on your PDF are:\n",
            "Financial Markets (score: 3)\n",
            "Introduction to Corporate Finance (score: 3)\n",
            "From the Big Bang to Dark Energy (score: 0)\n",
            "Origins - Formation of the Universe, Solar System, Earth and Life (score: 0)\n",
            "Greek and Roman Mythology (score: 0)\n"
          ]
        }
      ]
    },
    {
      "cell_type": "markdown",
      "source": [
        "**Using Kaggle Dataset on Coursera**\n",
        "https://www.kaggle.com/datasets/elvinrustam/coursera-dataset"
      ],
      "metadata": {
        "id": "x-rZvPwdyO8v"
      }
    },
    {
      "cell_type": "code",
      "source": [
        "\n",
        "import pandas as pd\n",
        "\n",
        "uploaded = files.upload()\n",
        "\n",
        "#Uploading the Coursera dataset\n",
        "\n",
        "courserakaggle = next(iter(uploaded))\n",
        "\n",
        "df = pd.read_csv(courserakaggle)\n",
        "\n",
        "print(df.head())\n",
        "\n",
        "\n"
      ],
      "metadata": {
        "colab": {
          "base_uri": "https://localhost:8080/",
          "height": 1000
        },
        "id": "V3EW7rCTyTOA",
        "outputId": "bcb088c6-3352-4afe-c1a0-2053ea4bb1b3"
      },
      "execution_count": 15,
      "outputs": [
        {
          "output_type": "display_data",
          "data": {
            "text/plain": [
              "<IPython.core.display.HTML object>"
            ],
            "text/html": [
              "\n",
              "     <input type=\"file\" id=\"files-7a12e91e-bd15-40dc-a94f-d61ec9607c52\" name=\"files[]\" multiple disabled\n",
              "        style=\"border:none\" />\n",
              "     <output id=\"result-7a12e91e-bd15-40dc-a94f-d61ec9607c52\">\n",
              "      Upload widget is only available when the cell has been executed in the\n",
              "      current browser session. Please rerun this cell to enable.\n",
              "      </output>\n",
              "      <script>// Copyright 2017 Google LLC\n",
              "//\n",
              "// Licensed under the Apache License, Version 2.0 (the \"License\");\n",
              "// you may not use this file except in compliance with the License.\n",
              "// You may obtain a copy of the License at\n",
              "//\n",
              "//      http://www.apache.org/licenses/LICENSE-2.0\n",
              "//\n",
              "// Unless required by applicable law or agreed to in writing, software\n",
              "// distributed under the License is distributed on an \"AS IS\" BASIS,\n",
              "// WITHOUT WARRANTIES OR CONDITIONS OF ANY KIND, either express or implied.\n",
              "// See the License for the specific language governing permissions and\n",
              "// limitations under the License.\n",
              "\n",
              "/**\n",
              " * @fileoverview Helpers for google.colab Python module.\n",
              " */\n",
              "(function(scope) {\n",
              "function span(text, styleAttributes = {}) {\n",
              "  const element = document.createElement('span');\n",
              "  element.textContent = text;\n",
              "  for (const key of Object.keys(styleAttributes)) {\n",
              "    element.style[key] = styleAttributes[key];\n",
              "  }\n",
              "  return element;\n",
              "}\n",
              "\n",
              "// Max number of bytes which will be uploaded at a time.\n",
              "const MAX_PAYLOAD_SIZE = 100 * 1024;\n",
              "\n",
              "function _uploadFiles(inputId, outputId) {\n",
              "  const steps = uploadFilesStep(inputId, outputId);\n",
              "  const outputElement = document.getElementById(outputId);\n",
              "  // Cache steps on the outputElement to make it available for the next call\n",
              "  // to uploadFilesContinue from Python.\n",
              "  outputElement.steps = steps;\n",
              "\n",
              "  return _uploadFilesContinue(outputId);\n",
              "}\n",
              "\n",
              "// This is roughly an async generator (not supported in the browser yet),\n",
              "// where there are multiple asynchronous steps and the Python side is going\n",
              "// to poll for completion of each step.\n",
              "// This uses a Promise to block the python side on completion of each step,\n",
              "// then passes the result of the previous step as the input to the next step.\n",
              "function _uploadFilesContinue(outputId) {\n",
              "  const outputElement = document.getElementById(outputId);\n",
              "  const steps = outputElement.steps;\n",
              "\n",
              "  const next = steps.next(outputElement.lastPromiseValue);\n",
              "  return Promise.resolve(next.value.promise).then((value) => {\n",
              "    // Cache the last promise value to make it available to the next\n",
              "    // step of the generator.\n",
              "    outputElement.lastPromiseValue = value;\n",
              "    return next.value.response;\n",
              "  });\n",
              "}\n",
              "\n",
              "/**\n",
              " * Generator function which is called between each async step of the upload\n",
              " * process.\n",
              " * @param {string} inputId Element ID of the input file picker element.\n",
              " * @param {string} outputId Element ID of the output display.\n",
              " * @return {!Iterable<!Object>} Iterable of next steps.\n",
              " */\n",
              "function* uploadFilesStep(inputId, outputId) {\n",
              "  const inputElement = document.getElementById(inputId);\n",
              "  inputElement.disabled = false;\n",
              "\n",
              "  const outputElement = document.getElementById(outputId);\n",
              "  outputElement.innerHTML = '';\n",
              "\n",
              "  const pickedPromise = new Promise((resolve) => {\n",
              "    inputElement.addEventListener('change', (e) => {\n",
              "      resolve(e.target.files);\n",
              "    });\n",
              "  });\n",
              "\n",
              "  const cancel = document.createElement('button');\n",
              "  inputElement.parentElement.appendChild(cancel);\n",
              "  cancel.textContent = 'Cancel upload';\n",
              "  const cancelPromise = new Promise((resolve) => {\n",
              "    cancel.onclick = () => {\n",
              "      resolve(null);\n",
              "    };\n",
              "  });\n",
              "\n",
              "  // Wait for the user to pick the files.\n",
              "  const files = yield {\n",
              "    promise: Promise.race([pickedPromise, cancelPromise]),\n",
              "    response: {\n",
              "      action: 'starting',\n",
              "    }\n",
              "  };\n",
              "\n",
              "  cancel.remove();\n",
              "\n",
              "  // Disable the input element since further picks are not allowed.\n",
              "  inputElement.disabled = true;\n",
              "\n",
              "  if (!files) {\n",
              "    return {\n",
              "      response: {\n",
              "        action: 'complete',\n",
              "      }\n",
              "    };\n",
              "  }\n",
              "\n",
              "  for (const file of files) {\n",
              "    const li = document.createElement('li');\n",
              "    li.append(span(file.name, {fontWeight: 'bold'}));\n",
              "    li.append(span(\n",
              "        `(${file.type || 'n/a'}) - ${file.size} bytes, ` +\n",
              "        `last modified: ${\n",
              "            file.lastModifiedDate ? file.lastModifiedDate.toLocaleDateString() :\n",
              "                                    'n/a'} - `));\n",
              "    const percent = span('0% done');\n",
              "    li.appendChild(percent);\n",
              "\n",
              "    outputElement.appendChild(li);\n",
              "\n",
              "    const fileDataPromise = new Promise((resolve) => {\n",
              "      const reader = new FileReader();\n",
              "      reader.onload = (e) => {\n",
              "        resolve(e.target.result);\n",
              "      };\n",
              "      reader.readAsArrayBuffer(file);\n",
              "    });\n",
              "    // Wait for the data to be ready.\n",
              "    let fileData = yield {\n",
              "      promise: fileDataPromise,\n",
              "      response: {\n",
              "        action: 'continue',\n",
              "      }\n",
              "    };\n",
              "\n",
              "    // Use a chunked sending to avoid message size limits. See b/62115660.\n",
              "    let position = 0;\n",
              "    do {\n",
              "      const length = Math.min(fileData.byteLength - position, MAX_PAYLOAD_SIZE);\n",
              "      const chunk = new Uint8Array(fileData, position, length);\n",
              "      position += length;\n",
              "\n",
              "      const base64 = btoa(String.fromCharCode.apply(null, chunk));\n",
              "      yield {\n",
              "        response: {\n",
              "          action: 'append',\n",
              "          file: file.name,\n",
              "          data: base64,\n",
              "        },\n",
              "      };\n",
              "\n",
              "      let percentDone = fileData.byteLength === 0 ?\n",
              "          100 :\n",
              "          Math.round((position / fileData.byteLength) * 100);\n",
              "      percent.textContent = `${percentDone}% done`;\n",
              "\n",
              "    } while (position < fileData.byteLength);\n",
              "  }\n",
              "\n",
              "  // All done.\n",
              "  yield {\n",
              "    response: {\n",
              "      action: 'complete',\n",
              "    }\n",
              "  };\n",
              "}\n",
              "\n",
              "scope.google = scope.google || {};\n",
              "scope.google.colab = scope.google.colab || {};\n",
              "scope.google.colab._files = {\n",
              "  _uploadFiles,\n",
              "  _uploadFilesContinue,\n",
              "};\n",
              "})(self);\n",
              "</script> "
            ]
          },
          "metadata": {}
        },
        {
          "output_type": "stream",
          "name": "stdout",
          "text": [
            "Saving couserakaggle.csv to couserakaggle (1).csv\n",
            "                                        Course Title  Rating           Level  \\\n",
            "0                                  Fashion as Design     4.8  Beginner level   \n",
            "1                             Modern American Poetry     4.4  Beginner level   \n",
            "2                          Pixel Art for Video Games     4.5  Beginner level   \n",
            "3    Distribución digital de la música independiente     0.0  Beginner level   \n",
            "4  The Blues: Understanding and Performing an Ame...     4.8  Beginner level   \n",
            "\n",
            "            Schedule                                What you will learn  \\\n",
            "0  Flexible schedule                                      Not specified   \n",
            "1  Flexible schedule                                      Not specified   \n",
            "2  Flexible schedule                                      Not specified   \n",
            "3  Flexible schedule                                      Not specified   \n",
            "4  Flexible schedule  Students will be able to describe the blues as...   \n",
            "\n",
            "                               Skill gain  \\\n",
            "0   Art History, Art, History, Creativity   \n",
            "1                           Not specified   \n",
            "2                           Not specified   \n",
            "3                           Not specified   \n",
            "4  Music, Chord, Jazz, Jazz Improvisation   \n",
            "\n",
            "                                             Modules  \\\n",
            "0  Introduction, Heroes, Silhouettes, Coutures, L...   \n",
            "1  Orientation, Module 1, Module 2, Module 3, Mod...   \n",
            "2  Week 1: Introduction to Pixel Art, Week 2: Pix...   \n",
            "3             Semana 1, Semana 2, Semana 3, Semana 4   \n",
            "4  Blues Progressions – Theory and Practice , Blu...   \n",
            "\n",
            "                                          Instructor  \\\n",
            "0  Anna Burckhardt, Paola Antonelli, Michelle Mil...   \n",
            "1                                        Cary Nelson   \n",
            "2                   Andrew Dennis, Ricardo Guimaraes   \n",
            "3                          Eduardo de la Vara Brown.   \n",
            "4                                  Dariusz Terefenko   \n",
            "\n",
            "                                   Offered By              Keyword  \\\n",
            "0                    The Museum of Modern Art  Arts and Humanities   \n",
            "1  University of Illinois at Urbana-Champaign  Arts and Humanities   \n",
            "2                   Michigan State University  Arts and Humanities   \n",
            "3                        SAE Institute México  Arts and Humanities   \n",
            "4                     University of Rochester  Arts and Humanities   \n",
            "\n",
            "                                          Course Url  \\\n",
            "0      https://www.coursera.org/learn/fashion-design   \n",
            "1  https://www.coursera.org/learn/modern-american...   \n",
            "2  https://www.coursera.org/learn/pixel-art-video...   \n",
            "3  https://www.coursera.org/learn/distribucion-di...   \n",
            "4           https://www.coursera.org/learn/the-blues   \n",
            "\n",
            "   Duration to complete (Approx.)  Number of Review  \n",
            "0                            20.0              2813  \n",
            "1                            34.0               100  \n",
            "2                             9.0               227  \n",
            "3                             8.0                 0  \n",
            "4                            11.0               582  \n"
          ]
        }
      ]
    },
    {
      "cell_type": "code",
      "source": [
        "# Finding the exact name of the columns\n",
        "print(df.columns)"
      ],
      "metadata": {
        "colab": {
          "base_uri": "https://localhost:8080/"
        },
        "id": "I-vFCya9_2sL",
        "outputId": "46c40fae-3200-49c4-8bea-98c48520f930"
      },
      "execution_count": 23,
      "outputs": [
        {
          "output_type": "stream",
          "name": "stdout",
          "text": [
            "Index(['Course Title', 'Rating', 'Level', 'Schedule', 'Skill gain',\n",
            "       'Offered By', 'Keyword', 'Course Url',\n",
            "       'Duration to complete (Approx.)'],\n",
            "      dtype='object')\n"
          ]
        }
      ]
    },
    {
      "cell_type": "code",
      "source": [
        "# Changing the name of a few columns\n",
        "\n",
        "df = df.rename(columns={\n",
        "    \"Skill gain\": \"Skills\",\n",
        "    \"Keyword\": \"Subject\",\n",
        "    \"Course Url\": \"Link to the Course\",\n",
        "    \"Duration to complete (Approx.)\": \"Hours to Complete\"\n",
        "})\n",
        "\n",
        "print(df.head())"
      ],
      "metadata": {
        "colab": {
          "base_uri": "https://localhost:8080/"
        },
        "id": "yehqv2NuBUtv",
        "outputId": "c9ec9048-0347-4129-f64b-b259d5a24132"
      },
      "execution_count": 27,
      "outputs": [
        {
          "output_type": "stream",
          "name": "stdout",
          "text": [
            "                                        Course Title  Rating           Level  \\\n",
            "0                                  Fashion as Design     4.8  Beginner level   \n",
            "1                             Modern American Poetry     4.4  Beginner level   \n",
            "2                          Pixel Art for Video Games     4.5  Beginner level   \n",
            "3    Distribución digital de la música independiente     0.0  Beginner level   \n",
            "4  The Blues: Understanding and Performing an Ame...     4.8  Beginner level   \n",
            "\n",
            "            Schedule                                  Skills  \\\n",
            "0  Flexible schedule   Art History, Art, History, Creativity   \n",
            "1  Flexible schedule                           Not specified   \n",
            "2  Flexible schedule                           Not specified   \n",
            "3  Flexible schedule                           Not specified   \n",
            "4  Flexible schedule  Music, Chord, Jazz, Jazz Improvisation   \n",
            "\n",
            "                                   Offered By              Subject  \\\n",
            "0                    The Museum of Modern Art  Arts and Humanities   \n",
            "1  University of Illinois at Urbana-Champaign  Arts and Humanities   \n",
            "2                   Michigan State University  Arts and Humanities   \n",
            "3                        SAE Institute México  Arts and Humanities   \n",
            "4                     University of Rochester  Arts and Humanities   \n",
            "\n",
            "                                  Link to the Course  Hours to Complete  \n",
            "0      https://www.coursera.org/learn/fashion-design               20.0  \n",
            "1  https://www.coursera.org/learn/modern-american...               34.0  \n",
            "2  https://www.coursera.org/learn/pixel-art-video...                9.0  \n",
            "3  https://www.coursera.org/learn/distribucion-di...                8.0  \n",
            "4           https://www.coursera.org/learn/the-blues               11.0  \n"
          ]
        }
      ]
    },
    {
      "cell_type": "code",
      "source": [
        "# Excluding the \"Not specified\" lines on the Skills column\n",
        "\n",
        "df_cleaned = df[df[\"Skills\"] != \"Not specified\"]\n",
        "\n",
        "print(df_cleaned.head())\n",
        "\n",
        "print(len(df_cleaned))"
      ],
      "metadata": {
        "colab": {
          "base_uri": "https://localhost:8080/"
        },
        "id": "iEb56PW2DDrh",
        "outputId": "e7182e71-9180-4ac5-b5d9-2e96e0cb7ed9"
      },
      "execution_count": 29,
      "outputs": [
        {
          "output_type": "stream",
          "name": "stdout",
          "text": [
            "                                         Course Title  Rating  \\\n",
            "0                                   Fashion as Design     4.8   \n",
            "4   The Blues: Understanding and Performing an Ame...     4.8   \n",
            "11           In the Studio: Postwar Abstract Painting     4.9   \n",
            "13  Basic Elements of Design: Design Principles an...     4.7   \n",
            "17                              Shaping Urban Futures     4.7   \n",
            "\n",
            "                 Level           Schedule  \\\n",
            "0       Beginner level  Flexible schedule   \n",
            "4       Beginner level  Flexible schedule   \n",
            "11      Beginner level  Flexible schedule   \n",
            "13      Beginner level  Flexible schedule   \n",
            "17  Intermediate level  Flexible schedule   \n",
            "\n",
            "                                               Skills  \\\n",
            "0               Art History, Art, History, Creativity   \n",
            "4              Music, Chord, Jazz, Jazz Improvisation   \n",
            "11            Art History, Art, History, Color Theory   \n",
            "13  Print Design, online design, Color Theory, Gra...   \n",
            "17  Urban sciences, Urban research, Knowledge gene...   \n",
            "\n",
            "                                Offered By              Subject  \\\n",
            "0                 The Museum of Modern Art  Arts and Humanities   \n",
            "4                  University of Rochester  Arts and Humanities   \n",
            "11                The Museum of Modern Art  Arts and Humanities   \n",
            "13          University of Colorado Boulder  Arts and Humanities   \n",
            "17  Indian Institute for Human Settlements  Arts and Humanities   \n",
            "\n",
            "                                   Link to the Course  Hours to Complete  \n",
            "0       https://www.coursera.org/learn/fashion-design               20.0  \n",
            "4            https://www.coursera.org/learn/the-blues               11.0  \n",
            "11            https://www.coursera.org/learn/painting               26.0  \n",
            "13  https://www.coursera.org/learn/basic-elements-...               10.0  \n",
            "17  https://www.coursera.org/learn/shaping-urban-f...               21.0  \n",
            "5671\n"
          ]
        }
      ]
    },
    {
      "cell_type": "code",
      "source": [
        "# Changing the Data Frame to the new configuration. Still has 5.671 courses.\n",
        "\n",
        "df = df_cleaned"
      ],
      "metadata": {
        "id": "9Km5xBLRFF23"
      },
      "execution_count": 30,
      "outputs": []
    },
    {
      "cell_type": "code",
      "source": [
        "# Renaming the lines on the columns \"Level\" and \"Schedule\" to make it cleaner\n",
        "\n",
        "df[\"Level\"] = df[\"Level\"].replace({\n",
        "    \"Beginner level\": \"Beginner\",\n",
        "    \"Intermediate level\": \"Intermediate\",\n",
        "    \"Advanced level\": \"Advanced\"\n",
        "})\n",
        "\n",
        "df[\"Schedule\"] = df[\"Schedule\"].replace({\"Flexible schedule\": \"Flexible\"})\n",
        "\n",
        "print(df.head(10))"
      ],
      "metadata": {
        "colab": {
          "base_uri": "https://localhost:8080/"
        },
        "id": "nuMMXOHmHU6T",
        "outputId": "fc956f5b-0d81-4606-ed37-7195d196ffbe"
      },
      "execution_count": 37,
      "outputs": [
        {
          "output_type": "stream",
          "name": "stdout",
          "text": [
            "                                         Course Title  Rating          Level  \\\n",
            "0                                   Fashion as Design     4.8       Beginner   \n",
            "4   The Blues: Understanding and Performing an Ame...     4.8       Beginner   \n",
            "11           In the Studio: Postwar Abstract Painting     4.9       Beginner   \n",
            "13  Basic Elements of Design: Design Principles an...     4.7       Beginner   \n",
            "17                              Shaping Urban Futures     4.7   Intermediate   \n",
            "20  Antisemitismo: Desde sus orígenes hasta el pre...     4.9       Beginner   \n",
            "21  Herencia negra, aplicación de ritmos afroperuanos     0.0       Beginner   \n",
            "26     Internal Displacement, Conflict and Protection     4.9       Beginner   \n",
            "27   Health, Society, and Wellness in COVID-19 Times      4.6       Beginner   \n",
            "28                                  Indigenous Canada     4.8  Not specified   \n",
            "\n",
            "    Schedule                                             Skills  \\\n",
            "0   Flexible              Art History, Art, History, Creativity   \n",
            "4   Flexible             Music, Chord, Jazz, Jazz Improvisation   \n",
            "11  Flexible            Art History, Art, History, Color Theory   \n",
            "13  Flexible  Print Design, online design, Color Theory, Gra...   \n",
            "17  Flexible  Urban sciences, Urban research, Knowledge gene...   \n",
            "20  Flexible          Holocaust, Middle East, Israel, defeatism   \n",
            "21  Flexible              Musical Notation, Musical Composition   \n",
            "26  Flexible  •\\tPractice navigating online in order to enga...   \n",
            "27  Flexible  Education, COVID-19, health, Public Health, He...   \n",
            "28  Flexible  Art, History, Indigenous Studies, Human Rights...   \n",
            "\n",
            "                                  Offered By              Subject  \\\n",
            "0                   The Museum of Modern Art  Arts and Humanities   \n",
            "4                    University of Rochester  Arts and Humanities   \n",
            "11                  The Museum of Modern Art  Arts and Humanities   \n",
            "13            University of Colorado Boulder  Arts and Humanities   \n",
            "17    Indian Institute for Human Settlements  Arts and Humanities   \n",
            "20                               Yad Vashem   Arts and Humanities   \n",
            "21  Pontificia Universidad Católica del Perú  Arts and Humanities   \n",
            "26                      University of London  Arts and Humanities   \n",
            "27            University of Colorado Boulder  Arts and Humanities   \n",
            "28                     University of Alberta  Arts and Humanities   \n",
            "\n",
            "                                   Link to the Course  Hours to Complete  \n",
            "0       https://www.coursera.org/learn/fashion-design               20.0  \n",
            "4            https://www.coursera.org/learn/the-blues               11.0  \n",
            "11            https://www.coursera.org/learn/painting               26.0  \n",
            "13  https://www.coursera.org/learn/basic-elements-...               10.0  \n",
            "17  https://www.coursera.org/learn/shaping-urban-f...               21.0  \n",
            "20       https://www.coursera.org/learn/antisemitismo               21.0  \n",
            "21  https://www.coursera.org/learn/aplicacion-ritm...               16.0  \n",
            "26  https://www.coursera.org/learn/internal-displa...               27.0  \n",
            "27  https://www.coursera.org/learn/health-society-...               52.0  \n",
            "28   https://www.coursera.org/learn/indigenous-canada               21.0  \n"
          ]
        }
      ]
    },
    {
      "cell_type": "code",
      "source": [
        "# Finding all the different answers for the columns: Level, Schedule and Subject to check if there is anything else to exclude\n",
        "\n",
        "answers_level = df[\"Level\"].unique()\n",
        "answers_schedule = df[\"Schedule\"].unique()\n",
        "answers_subject = df[\"Subject\"].unique()\n",
        "\n",
        "print(\"Levels:\", answers_level)\n",
        "print(\"Schedule:\", answers_schedule)\n",
        "print(\"Subjects:\", answers_subject)\n",
        "\n"
      ],
      "metadata": {
        "colab": {
          "base_uri": "https://localhost:8080/"
        },
        "id": "c0S6bbt0FfEg",
        "outputId": "af6a0d67-1145-4ecb-a0fe-ae5d3b26da9d"
      },
      "execution_count": 38,
      "outputs": [
        {
          "output_type": "stream",
          "name": "stdout",
          "text": [
            "Levels: ['Beginner' 'Intermediate' 'Not specified' 'Advanced']\n",
            "Schedule: ['Flexible' 'Hands-on learning']\n",
            "Subjects: ['Arts and Humanities' 'Business' 'Computer Science' 'DataScience'\n",
            " 'Health' 'Information Technology' 'Math and Logic' 'Personal Development'\n",
            " 'Physical Science and Engineering' 'Social Sciences']\n"
          ]
        }
      ]
    },
    {
      "cell_type": "code",
      "source": [
        "# Finding how many courses, according to each of those divisions\n",
        "\n",
        "number_level = df[\"Level\"].value_counts()\n",
        "number_schedule = df[\"Schedule\"].value_counts()\n",
        "number_subject = df[\"Subject\"].value_counts()\n",
        "\n",
        "print(\"Levels:\", number_level)\n",
        "print(\"Schedule:\", number_schedule)\n",
        "print(\"Subjects:\", number_subject)\n"
      ],
      "metadata": {
        "colab": {
          "base_uri": "https://localhost:8080/"
        },
        "id": "-JXgS-l0P_WP",
        "outputId": "827f5b19-fbe5-474e-805b-9969b252b340"
      },
      "execution_count": 39,
      "outputs": [
        {
          "output_type": "stream",
          "name": "stdout",
          "text": [
            "Levels: Beginner         3563\n",
            "Intermediate     1475\n",
            "Not specified     461\n",
            "Advanced          172\n",
            "Name: Level, dtype: int64\n",
            "Schedule: Flexible             5349\n",
            "Hands-on learning     322\n",
            "Name: Schedule, dtype: int64\n",
            "Subjects: Computer Science                    825\n",
            "DataScience                         820\n",
            "Business                            751\n",
            "Personal Development                643\n",
            "Information Technology              630\n",
            "Health                              560\n",
            "Social Sciences                     524\n",
            "Physical Science and Engineering    402\n",
            "Math and Logic                      340\n",
            "Arts and Humanities                 176\n",
            "Name: Subject, dtype: int64\n"
          ]
        }
      ]
    },
    {
      "cell_type": "code",
      "source": [
        "# Find the \"keywords\" on the Skills column\n",
        "\n",
        "answers_skills = df[\"Skills\"].value_counts()\n",
        "\n",
        "print(\"List of Skills:\", answers_skills)"
      ],
      "metadata": {
        "colab": {
          "base_uri": "https://localhost:8080/"
        },
        "id": "4QqYaIn4Re6h",
        "outputId": "9d6dc565-e7f5-47fd-b5b0-aea0a6793aae"
      },
      "execution_count": 42,
      "outputs": [
        {
          "output_type": "stream",
          "name": "stdout",
          "text": [
            "List of Skills: Function Approximation, Artificial Intelligence (AI), Reinforcement Learning, Machine Learning, Intelligent Systems    11\n",
            "Spatial Analysis, Geographic Information System (GIS), Mapping, Cartography, Esri                                      10\n",
            "Creativity, Time management, Persuasion, Writing, Editing                                                               8\n",
            "Soft skills, Professional Skills                                                                                        8\n",
            "Google Compute Engine, Google App Engine (GAE), Google Cloud Platform, Cloud Computing                                  8\n",
            "                                                                                                                       ..\n",
            "Emergency Medicine, Emergency Medical Technician, EMT, Trauma                                                           1\n",
            "Nutrition, exercise, health, musculoskeletal, Cardiorespiratory                                                         1\n",
            "Cardiovascular system, human anatomy, Respiratory system, urinary system                                                1\n",
            "Research Methods, Data Analysis, Research Design, Qualitative Research, Public Health Research                          1\n",
            "Network Analysis, igraph, R Programming, Graph Drawing, text processing                                                 1\n",
            "Name: Skills, Length: 3696, dtype: int64\n"
          ]
        }
      ]
    },
    {
      "cell_type": "code",
      "source": [
        "# Apparently, it gave the \"expressions\" not the words individually. So, I am gonna try to split them, in order to count.\n",
        "\n",
        "separate_skills = df[\"Skills\"].str.split(\",\").explode()\n",
        "\n",
        "print(separate_skills)"
      ],
      "metadata": {
        "colab": {
          "base_uri": "https://localhost:8080/"
        },
        "id": "mkT0IZW1TfsE",
        "outputId": "394a3a4d-a1f4-48b3-ffa8-3398e9bb4bdc"
      },
      "execution_count": 45,
      "outputs": [
        {
          "output_type": "stream",
          "name": "stdout",
          "text": [
            "0            Art History\n",
            "0                    Art\n",
            "0                History\n",
            "0             Creativity\n",
            "4                  Music\n",
            "              ...       \n",
            "8369    Network Analysis\n",
            "8369              igraph\n",
            "8369       R Programming\n",
            "8369       Graph Drawing\n",
            "8369     text processing\n",
            "Name: Skills, Length: 27866, dtype: object\n"
          ]
        }
      ]
    },
    {
      "cell_type": "code",
      "source": [
        "# Now, padronize them\n",
        "\n",
        "separate_skills = separate_skills.str.strip().str.lower()\n",
        "number_skills = separate_skills.value_counts()\n",
        "\n",
        "print(number_skills)"
      ],
      "metadata": {
        "colab": {
          "base_uri": "https://localhost:8080/"
        },
        "id": "ve6YpoWPVIEI",
        "outputId": "b0a81cb2-fdca-45eb-b883-2e9faa42c949"
      },
      "execution_count": 48,
      "outputs": [
        {
          "output_type": "stream",
          "name": "stdout",
          "text": [
            "data analysis         358\n",
            "python programming    357\n",
            "machine learning      237\n",
            "communication         207\n",
            "data visualization    196\n",
            "                     ... \n",
            "it troubleshooting      1\n",
            "mobile devices          1\n",
            "information ethics      1\n",
            "biometrics              1\n",
            "text processing         1\n",
            "Name: Skills, Length: 7336, dtype: int64\n"
          ]
        }
      ]
    },
    {
      "cell_type": "code",
      "source": [
        "# Given that our keywords (on the pdf content) are single words and not expressions, I am using Regular Expressions here to split the \"Skills\" once more.\n",
        "# Example: \"data analysis\" will become \"data\" + \"analysis\"\n",
        "# I am using this tutorial on Regular Expressions: https://www.youtube.com/watch?v=K8L6KVGG-7o\n",
        "\n",
        "# Ideally, we should fix our keywords to encompass \"words\" and \"expressions\". The \"Big Bang\" issue.\n",
        "\n",
        "individual_skills = df[\"Skills\"].str.split(r',|\\s+').explode()\n",
        "individual_skills = individual_skills.str.strip().str.lower()\n",
        "count_skills = individual_skills.value_counts()\n",
        "\n",
        "print(count_skills)"
      ],
      "metadata": {
        "colab": {
          "base_uri": "https://localhost:8080/"
        },
        "id": "YmFSSc7rXtY-",
        "outputId": "626258c3-f991-4423-9b39-e6a9303a7e1c"
      },
      "execution_count": 50,
      "outputs": [
        {
          "output_type": "stream",
          "name": "stdout",
          "text": [
            "                22195\n",
            "data             1552\n",
            "management       1175\n",
            "and               957\n",
            "programming       937\n",
            "                ...  \n",
            "urinarios           1\n",
            "aproximación        1\n",
            "diagnóstica         1\n",
            "basada              1\n",
            "drawing             1\n",
            "Name: Skills, Length: 6410, dtype: int64\n"
          ]
        }
      ]
    },
    {
      "cell_type": "code",
      "source": [
        "# Now, I will remove the stopwords (and,...)"
      ],
      "metadata": {
        "id": "9CGyykYOs5mq"
      },
      "execution_count": null,
      "outputs": []
    }
  ]
}